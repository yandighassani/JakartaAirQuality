{
  "nbformat": 4,
  "nbformat_minor": 0,
  "metadata": {
    "colab": {
      "provenance": []
    },
    "kernelspec": {
      "name": "python3",
      "display_name": "Python 3"
    },
    "language_info": {
      "name": "python"
    }
  },
  "cells": [
    {
      "cell_type": "code",
      "execution_count": 1,
      "metadata": {
        "id": "d-egojrdCINa"
      },
      "outputs": [],
      "source": [
        "import pandas as pd\n",
        "\n",
        "df = pd.read_csv(\"jakarta_aq.csv\")\n",
        "\n",
        "df = df.drop(columns=[\"Unnamed: 2\"])\n",
        "\n",
        "df['date'] = pd.to_datetime(df['date'])\n",
        "\n",
        "df = df.sort_values(by='date')\n",
        "\n",
        "start_date = pd.to_datetime(\"2025-02-15\")\n",
        "end_date = pd.to_datetime(\"2025-05-15\")\n",
        "df_filtered = df[(df['date'] >= start_date) & (df['date'] <= end_date)]\n",
        "\n",
        "df_filtered = df_filtered.reset_index(drop=True)\n",
        "\n",
        "df_filtered.to_csv(\"jakarta_aq_cleaned.csv\", index=False)"
      ]
    }
  ]
}